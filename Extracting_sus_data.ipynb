{
 "cells": [
  {
   "cell_type": "code",
   "execution_count": 1,
   "id": "44369161",
   "metadata": {},
   "outputs": [],
   "source": [
    "import urllib.request\n",
    "import json\n",
    "import os\n",
    "from google.cloud import storage"
   ]
  },
  {
   "cell_type": "code",
   "execution_count": 7,
   "id": "9b199c12",
   "metadata": {},
   "outputs": [],
   "source": [
    "class Extract_SUS():\n",
    "    def __init__(self, year_month_initial, year_month_final, uf):\n",
    "        self.year_month_initial = year_month_initial\n",
    "        self.year_month_final = year_month_final\n",
    "        self.uf = uf.upper()\n",
    "    \n",
    "    def extract_data(self):\n",
    "        if 1 <= int(str(self.year_month_initial)[-2:]) <= 12 and 1 <= int(str(self.year_month_final)[-2:]) <= 12:\n",
    "            period = self.year_month_final - self.year_month_initial\n",
    "            for i in range(0,period+1):\n",
    "                yearmonth = self.year_month_initial+i\n",
    "                url = f\"ftp://ftp.datasus.gov.br/dissemin/publicos/SIHSUS/200801_/Dados/RD{self.uf}{yearmonth}.dbc\"\n",
    "                file = f\"RD{self.uf}{yearmonth}.dbc\"\n",
    "                response = urllib.request.urlretrieve(url,file)\n",
    "                print(response)\n",
    "        return True\n",
    "\n",
    "class Storage():\n",
    "    def __init__(self):\n",
    "        os.environ[\"GOOGLE_APPLICATION_CREDENTIALS\"] = 'storage-sa.json'\n",
    "\n",
    "    def upload_file(self, bucket, source_file_name, destination_file_name): \n",
    "        storage_client = storage.Client()\n",
    "\n",
    "        bucket = storage_client.bucket(bucket)\n",
    "\n",
    "        blob = bucket.blob(destination_file_name)\n",
    "        blob.upload_from_filename(source_file_name)\n",
    "\n",
    "        return True\n",
    "    \n",
    "    def list_cs_files(self,bucket_name): \n",
    "        storage_client = storage.Client()\n",
    "\n",
    "        file_list = storage_client.list_blobs(bucket_name)\n",
    "        file_list = [file.name for file in file_list]\n",
    "\n",
    "        return file_list\n",
    "    \n",
    "    def download_cs_file(self, bucket_name, source_file_name, destination_file_name): \n",
    "        storage_client = storage.Client()\n",
    "\n",
    "        bucket = storage_client.bucket(bucket_name)\n",
    "\n",
    "        blob = bucket.blob(source_file_name)\n",
    "        blob.download_to_filename(destination_file_name)\n",
    "\n",
    "        return True"
   ]
  },
  {
   "cell_type": "code",
   "execution_count": 6,
   "id": "480388c5",
   "metadata": {},
   "outputs": [],
   "source": [
    "Extract_SUS(2301,2303,'BA').extract_data()"
   ]
  },
  {
   "cell_type": "code",
   "execution_count": 11,
   "id": "1693b241",
   "metadata": {
    "scrolled": false
   },
   "outputs": [
    {
     "data": {
      "text/plain": [
       "True"
      ]
     },
     "execution_count": 11,
     "metadata": {},
     "output_type": "execute_result"
    }
   ],
   "source": [
    "bucket = \"caminho do bucket\"\n",
    "source_file_name = \"nome_arquivo\"\n",
    "destination_file = \"raw/\"+source_file_name\n",
    "\n",
    "Storage().upload_file(bucket,\"source_file_name\",destination_file)"
   ]
  },
  {
   "cell_type": "code",
   "execution_count": null,
   "id": "0832fe4f",
   "metadata": {},
   "outputs": [],
   "source": []
  }
 ],
 "metadata": {
  "kernelspec": {
   "display_name": "Python 3 (ipykernel)",
   "language": "python",
   "name": "python3"
  },
  "language_info": {
   "codemirror_mode": {
    "name": "ipython",
    "version": 3
   },
   "file_extension": ".py",
   "mimetype": "text/x-python",
   "name": "python",
   "nbconvert_exporter": "python",
   "pygments_lexer": "ipython3",
   "version": "3.9.13"
  }
 },
 "nbformat": 4,
 "nbformat_minor": 5
}
